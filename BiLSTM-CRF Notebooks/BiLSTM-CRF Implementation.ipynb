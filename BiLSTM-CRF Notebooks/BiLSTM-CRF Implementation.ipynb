{
 "cells": [
  {
   "cell_type": "markdown",
   "metadata": {},
   "source": [
    "In this notebook, we are doing the major aggregation from all the other notebooks and trying to achieve the following tasks to tag the corpus and check the accuracy and sensitivity so achieved:\n",
    "<br>\n",
    "1. Preprocess the text data\n",
    "2. Building and training a BiLSTM-CRF Model using Keras and Tensorflow\n",
    "3. Evaluate the model on the test set to get sensitivity and accuracy\n",
    "4. Try running the model on newer unencountered sentences to see how the model works on the same"
   ]
  },
  {
   "cell_type": "markdown",
   "metadata": {},
   "source": [
    "## Preprocess Text Data"
   ]
  },
  {
   "cell_type": "markdown",
   "metadata": {},
   "source": [
    "Import all the required libraries to be processed"
   ]
  },
  {
   "cell_type": "code",
   "execution_count": 6,
   "metadata": {},
   "outputs": [],
   "source": [
    "import pandas as pd\n",
    "import numpy as np\n",
    "import matplotlib.pyplot as plt\n",
    "\n",
    "import keras\n",
    "import tensorflow as tf"
   ]
  },
  {
   "cell_type": "markdown",
   "metadata": {},
   "source": [
    "## Setting up training parameters for the model"
   ]
  },
  {
   "cell_type": "code",
   "execution_count": 8,
   "metadata": {},
   "outputs": [],
   "source": [
    "# check for GPU first:\n",
    "\n",
    "if tf.test.is_gpu_available:\n",
    "    BATCH_SIZE = 512\n",
    "    EPOCHS = 5\n",
    "    MAX_LEN = 75\n",
    "    EMBEDDING = 20\n",
    "    \n",
    "else:\n",
    "    BATCH_SIZE = 32 # Number of sentences used in each traiing iteration\n",
    "    EPOCHS - 5 # number of passes in the entire dataset\n",
    "    MAX_LEN = 75 # maximum number of words in each sentence used\n",
    "    EMBEDDING = 20 # setting the dimension of the word embedding vector"
   ]
  },
  {
   "cell_type": "markdown",
   "metadata": {},
   "source": [
    "## Data Preprocessing"
   ]
  },
  {
   "cell_type": "code",
   "execution_count": null,
   "metadata": {},
   "outputs": [],
   "source": []
  }
 ],
 "metadata": {
  "kernelspec": {
   "display_name": "ner",
   "language": "python",
   "name": "ner"
  },
  "language_info": {
   "codemirror_mode": {
    "name": "ipython",
    "version": 3
   },
   "file_extension": ".py",
   "mimetype": "text/x-python",
   "name": "python",
   "nbconvert_exporter": "python",
   "pygments_lexer": "ipython3",
   "version": "3.7.2"
  }
 },
 "nbformat": 4,
 "nbformat_minor": 2
}
