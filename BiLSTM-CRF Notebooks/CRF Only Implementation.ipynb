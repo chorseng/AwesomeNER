{
 "cells": [
  {
   "cell_type": "markdown",
   "metadata": {},
   "source": [
    "## Introduction "
   ]
  },
  {
   "cell_type": "markdown",
   "metadata": {},
   "source": [
    "In this notebook we will go through a CRF only named-entity recognition implementation based on finance corpus. The following would be the sequence of the notebook:\n",
    "<br>\n",
    "1. Loading the dataset into a dataframe\n",
    "2. Data Preprocessing\n",
    "3. Extract features from the sentences (Feature Engineering)\n",
    "4. Training a Condtional Random Field model\n",
    "5. Evaluating the trained CRF model\n",
    "6. Optimising the hyperparameters "
   ]
  },
  {
   "cell_type": "markdown",
   "metadata": {},
   "source": [
    "## Import the required libraries"
   ]
  },
  {
   "cell_type": "code",
   "execution_count": 9,
   "metadata": {},
   "outputs": [],
   "source": [
    "import pandas as pd\n",
    "import numpy as np \n",
    "\n",
    "from sklearn.model_selection import RandomizedSearchCV\n",
    "from sklearn.model_selection import learning_curve\n",
    "from sklearn.model_selection import train_test_split\n",
    "\n",
    "from sklearn_crfsuite import CRF\n",
    "from sklearn.metrics import make_scorer\n",
    "from sklearn_crfsuite import metrics\n",
    "from sklearn.exceptions import UndefinedMetricWarning \n",
    "\n",
    "import warnings\n",
    "import nltk\n",
    "import math\n",
    "import sys"
   ]
  },
  {
   "cell_type": "markdown",
   "metadata": {},
   "source": [
    "## Data Preprocessing"
   ]
  },
  {
   "cell_type": "code",
   "execution_count": null,
   "metadata": {},
   "outputs": [],
   "source": []
  },
  {
   "cell_type": "markdown",
   "metadata": {},
   "source": [
    "### Parts of Speech Tag Generation"
   ]
  },
  {
   "cell_type": "code",
   "execution_count": 11,
   "metadata": {},
   "outputs": [
    {
     "name": "stdout",
     "output_type": "stream",
     "text": [
      "         Token                    NE               POS\n",
      "0   $2,000,000     B-Notional Amount  ($2,000,000, CD)\n",
      "1          USD     I-Notional Amount        (USD, NNP)\n",
      "2    6/20/2011     B-Expiration Date   (6/20/2011, CD)\n",
      "3    Agreement                     O  (Agreement, NNP)\n",
      "4         with                     O        (with, IN)\n",
      "5           JP        B-Counterparty         (JP, NNP)\n",
      "6       Morgan        I-Counterparty     (Morgan, NNP)\n",
      "7        dated                     O      (dated, VBD)\n",
      "8      6/17/06                     O     (6/17/06, CD)\n",
      "9      whereby                     O     (whereby, IN)\n",
      "10         the                     O         (the, DT)\n",
      "11   Portfolio                     O  (Portfolio, NNP)\n",
      "12        will                     O        (will, MD)\n",
      "13     receive  B-Direction of Trade     (receive, VB)\n",
      "14       0.35%          B-Fixed Rate       (0.35%, CD)\n",
      "15         per                     O         (per, IN)\n",
      "16   yeartimes                     O  (yeartimes, NNS)\n",
      "17         the                     O         (the, DT)\n",
      "18    notional                     O    (notional, JJ)\n",
      "19  amount.The                     O  (amount.The, NN)\n",
      "20   Portfolio                     O  (Portfolio, NNP)\n",
      "21       makes                     O      (makes, VBZ)\n",
      "22           a                     O           (a, DT)\n",
      "23     payment                     O     (payment, NN)\n",
      "24        only                     O        (only, RB)\n",
      "25        upon                     O        (upon, IN)\n",
      "26           a                     O           (a, DT)\n",
      "27     default                     O     (default, NN)\n",
      "28       event                     O       (event, NN)\n",
      "29          on                     O          (on, IN)\n",
      "..         ...                   ...               ...\n",
      "45       dated                     O      (dated, VBD)\n",
      "46     6/17/06                     O     (6/17/06, CD)\n",
      "47     whereby                     O     (whereby, IN)\n",
      "48         the                     O         (the, DT)\n",
      "49   Portfolio                     O  (Portfolio, NNP)\n",
      "50        will                     O        (will, MD)\n",
      "51         pay  B-Direction of Trade         (pay, VB)\n",
      "52      0.095%          B-Fixed Rate      (0.095%, CD)\n",
      "53         per                     O         (per, IN)\n",
      "54        year                     O        (year, NN)\n",
      "55       times                     O      (times, VBZ)\n",
      "56         the                     O         (the, DT)\n",
      "57    notional                     O    (notional, JJ)\n",
      "58  amount.The                     O  (amount.The, NN)\n",
      "59   Portfolio                     O  (Portfolio, NNP)\n",
      "60    receives                     O   (receives, VBZ)\n",
      "61           a                     O           (a, DT)\n",
      "62     payment                     O     (payment, NN)\n",
      "63        only                     O        (only, RB)\n",
      "64        upon                     O        (upon, IN)\n",
      "65           a                     O           (a, DT)\n",
      "66     default                     O     (default, NN)\n",
      "67       event                     O       (event, NN)\n",
      "68          on                     O          (on, IN)\n",
      "69         the                     O         (the, DT)\n",
      "70   reference                     O   (reference, NN)\n",
      "71     entity,                     O     (entity,, NN)\n",
      "72        HSBC    B-Reference Entity       (HSBC, NNP)\n",
      "73       Bank,    I-Reference Entity      (Bank,, NNP)\n",
      "74         PLC    I-Reference Entity        (PLC, NNP)\n",
      "\n",
      "[75 rows x 3 columns]\n"
     ]
    }
   ],
   "source": [
    "# Read the NER data keeping blank lines and adding columns\n",
    "ner_data = pd.read_csv(\"../Data/tag1.csv\", skip_blank_lines=False, encoding=\"utf-8\", index_col=None)\n",
    "ner_data.columns = [\"Token\", \"NE\"]\n",
    "\n",
    "ner_data[\"POS\"] =  nltk.pos_tag(ner_data[\"Token\"])\n",
    "print(ner_data)"
   ]
  },
  {
   "cell_type": "markdown",
   "metadata": {},
   "source": [
    "### Visualize Tag Distribution"
   ]
  },
  {
   "cell_type": "code",
   "execution_count": null,
   "metadata": {
    "scrolled": false
   },
   "outputs": [],
   "source": [
    "tag_distribution = ner_data.groupby(\"NE\").size().reset_index(name='counts')\n",
    "print(tag_distribution)"
   ]
  },
  {
   "cell_type": "markdown",
   "metadata": {},
   "source": [
    "Now filtering the classes of Named Entity that we do not require in this analysis"
   ]
  },
  {
   "cell_type": "code",
   "execution_count": null,
   "metadata": {},
   "outputs": [],
   "source": [
    "classes = list(filter(lambda x: x not in [\"O\", np.nan], list(ner_data[\"NE\"].unique())))\n",
    "print(classes)"
   ]
  },
  {
   "cell_type": "code",
   "execution_count": null,
   "metadata": {},
   "outputs": [],
   "source": []
  }
 ],
 "metadata": {
  "kernelspec": {
   "display_name": "ner",
   "language": "python",
   "name": "ner"
  },
  "language_info": {
   "codemirror_mode": {
    "name": "ipython",
    "version": 3
   },
   "file_extension": ".py",
   "mimetype": "text/x-python",
   "name": "python",
   "nbconvert_exporter": "python",
   "pygments_lexer": "ipython3",
   "version": "3.5.2"
  }
 },
 "nbformat": 4,
 "nbformat_minor": 2
}
