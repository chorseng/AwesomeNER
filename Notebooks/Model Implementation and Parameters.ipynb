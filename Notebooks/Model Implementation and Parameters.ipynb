{
 "cells": [
  {
   "cell_type": "markdown",
   "metadata": {},
   "source": [
    "## Import the required libraries"
   ]
  },
  {
   "cell_type": "markdown",
   "metadata": {},
   "source": [
    "*** Introduction would go here ***"
   ]
  },
  {
   "cell_type": "code",
   "execution_count": 1,
   "metadata": {},
   "outputs": [
    {
     "name": "stderr",
     "output_type": "stream",
     "text": [
      "Using TensorFlow backend.\n"
     ]
    }
   ],
   "source": [
    "import json\n",
    "import tensorflow as tf\n",
    "\n",
    "from keras.models import Model, model_from_json\n",
    "from keras.layers.merge import Concatenate\n",
    "from keras.layers import Dense, LSTM, Bidirectional, Embedding, Input, Dropout, TimeDistributed"
   ]
  },
  {
   "cell_type": "markdown",
   "metadata": {},
   "source": [
    "## Implementation of BiLSTM-CRF to perform NER task"
   ]
  },
  {
   "cell_type": "markdown",
   "metadata": {},
   "source": [
    "*** More Description to be added ***"
   ]
  },
  {
   "cell_type": "code",
   "execution_count": 10,
   "metadata": {},
   "outputs": [],
   "source": [
    "class BiLSTMCRF_Model(object):\n",
    "    \n",
    "    \"\"\"\n",
    "    Argument Definitions supplied below:\n",
    "        WordEmbeddingSize (int): Word Embedding Dimensions\n",
    "        WordVocabSize (int): Word Vocabulary Size\n",
    "        Word_LSTM_size (int): Word Tagger output dimensions\n",
    "        EntityLabelsCount (int): Number of Entity Labels being used\n",
    "        dropoutRate (float): dropout rate\n",
    "        iscRF (boolean): choose to use CRF as the final layer\n",
    "        uploadEmbeddings (numpy array): word embedding matrix  \n",
    "        finalDimensions (int): final layer size \n",
    "    \"\"\"\n",
    "    \n",
    "    def __init__(self,\n",
    "                 wordVocabSize,\n",
    "                 EntityLabelsCount,\n",
    "                 wordEmbeddingDim = 300,\n",
    "                 word_LSTM_size = 300, \n",
    "                 dropoutRate = 0.5,\n",
    "                 isCRF = True,\n",
    "                 uploadEmbeddings = None,\n",
    "                 finalDimensions = 300):\n",
    "        \n",
    "        super(BiLSTMCRF_Model).__init__()\n",
    "        self.wordEmbeddingDim = wordEmbeddingDim\n",
    "        self.wordVocabSize = wordVocabSize\n",
    "        self.word_LSTM_size = word_LSTM_size # need to experiment with size\n",
    "        self.EntityLabelsCount = EntityLabelsCount\n",
    "        self.dropoutRate = dropoutRate\n",
    "        self.isCRF = isCRF\n",
    "        self.uploadEmbeddings = uploadEmbeddings\n",
    "        self.finalDimensions = finalDimensions\n",
    "    \n",
    "    def generateModel(self):\n",
    "        "
   ]
  },
  {
   "cell_type": "code",
   "execution_count": null,
   "metadata": {},
   "outputs": [],
   "source": []
  }
 ],
 "metadata": {
  "kernelspec": {
   "display_name": "bilstm-crf",
   "language": "python",
   "name": "bilstm-crf"
  },
  "language_info": {
   "codemirror_mode": {
    "name": "ipython",
    "version": 3
   },
   "file_extension": ".py",
   "mimetype": "text/x-python",
   "name": "python",
   "nbconvert_exporter": "python",
   "pygments_lexer": "ipython3",
   "version": "3.6.4"
  }
 },
 "nbformat": 4,
 "nbformat_minor": 2
}
